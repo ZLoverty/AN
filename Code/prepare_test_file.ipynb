{
 "cells": [
  {
   "cell_type": "markdown",
   "metadata": {},
   "source": [
    "# Prepare test files"
   ]
  },
  {
   "cell_type": "code",
   "execution_count": 22,
   "metadata": {},
   "outputs": [
    {
     "name": "stderr",
     "output_type": "stream",
     "text": [
      "C:\\Users\\zl948\\AppData\\Local\\Temp\\ipykernel_34280\\2127167446.py:5: DeprecationWarning: Please import `uniform_filter` from the `scipy.ndimage` namespace; the `scipy.ndimage.filters` namespace is deprecated and will be removed in SciPy 2.0.0.\n",
      "  from scipy.ndimage.filters import uniform_filter\n"
     ]
    }
   ],
   "source": [
    "import numpy as np\n",
    "import matplotlib.pyplot as plt\n",
    "import os\n",
    "from scipy.io import savemat\n",
    "from scipy.ndimage.filters import uniform_filter\n",
    "\n",
    "def angle_to_director(angle_8_bit):\n",
    "    \"\"\"\n",
    "    Convert an 8-bit angle image to a director field.\n",
    "\n",
    "    Args:\n",
    "    angle_8_bit -- the input 8-bit angle image, [M x N].\n",
    "\n",
    "    Returns:\n",
    "    director -- the output director field, [M x N x 2].\n",
    "    \"\"\"\n",
    "    angle = angle_8_bit * np.pi / 255 - np.pi / 2\n",
    "    director = np.array([np.cos(angle), np.sin(angle)]).transpose(1, 2, 0)\n",
    "\n",
    "    # require the y component director to be positive, otherwise flip the director\n",
    "    director[director[:,:,1]<=0] *= -1\n",
    "\n",
    "    return director\n",
    "    \n",
    "def qTensor(director, size=10):\n",
    "    \"\"\"\n",
    "    Compute the Q-tensor from the director field.\n",
    "    \"\"\"\n",
    "    Q = np.zeros((director.shape[0], director.shape[1], 2, 2))\n",
    "    Q[:, :, 0, 0] = uniform_filter(director[:, :, 0] * director[:, :, 0], size=size) - 0.5\n",
    "    Q[:, :, 0, 1] = uniform_filter(director[:, :, 0] * director[:, :, 1], size=size)\n",
    "    Q[:, :, 1, 0] = uniform_filter(director[:, :, 1] * director[:, :, 0], size=size)\n",
    "    Q[:, :, 1, 1] = uniform_filter(director[:, :, 1] * director[:, :, 1], size=size) - 0.5\n",
    "\n",
    "    return Q"
   ]
  },
  {
   "cell_type": "code",
   "execution_count": 15,
   "metadata": {},
   "outputs": [
    {
     "data": {
      "text/plain": [
       "(500, 400)"
      ]
     },
     "execution_count": 15,
     "metadata": {},
     "output_type": "execute_result"
    }
   ],
   "source": [
    "director.shape"
   ]
  },
  {
   "cell_type": "code",
   "execution_count": null,
   "metadata": {},
   "outputs": [],
   "source": [
    "data = {}\n",
    "folder = r\"G:\\My Drive\\NASync\\08 jun 2023\\director_field\"\n",
    "for channel in [\"A\", \"B\", \"C\"]:\n",
    "    angle = np.load(os.path.join(folder, f\"07_{channel}.npy\"))[300]\n",
    "    director = angle_to_director(angle)\n",
    "    q = qTensor(director, size=0)\n",
    "    data[f\"asym{channel}\"] = q\n",
    "    qs = qTensor(director, size=10)\n",
    "    data[f\"asym{channel}s\"] = qs\n",
    "folder = r\"G:\\My Drive\\NASync\\Sample 1\\nd2\\director_field\"\n",
    "for channel in [\"A\", \"B\", \"C\"]:\n",
    "    angle = np.load(os.path.join(folder, f\"06_{channel}.npy\"))[12]\n",
    "    director = angle_to_director(angle)\n",
    "    q = qTensor(director, size=0)\n",
    "    data[f\"sym{channel}\"] = q\n",
    "    qs = qTensor(director, size=10)\n",
    "    data[f\"sym{channel}s\"] = qs"
   ]
  },
  {
   "cell_type": "code",
   "execution_count": 32,
   "metadata": {},
   "outputs": [],
   "source": [
    "savemat(\"director_fields.mat\", data)"
   ]
  },
  {
   "cell_type": "code",
   "execution_count": 27,
   "metadata": {},
   "outputs": [
    {
     "data": {
      "text/plain": [
       "(500, 400, 2, 2)"
      ]
     },
     "execution_count": 27,
     "metadata": {},
     "output_type": "execute_result"
    }
   ],
   "source": [
    "q.shape"
   ]
  }
 ],
 "metadata": {
  "kernelspec": {
   "display_name": "Python 3",
   "language": "python",
   "name": "python3"
  },
  "language_info": {
   "codemirror_mode": {
    "name": "ipython",
    "version": 3
   },
   "file_extension": ".py",
   "mimetype": "text/x-python",
   "name": "python",
   "nbconvert_exporter": "python",
   "pygments_lexer": "ipython3",
   "version": "3.9.19"
  }
 },
 "nbformat": 4,
 "nbformat_minor": 2
}
