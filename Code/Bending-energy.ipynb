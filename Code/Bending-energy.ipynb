{
 "cells": [
  {
   "cell_type": "markdown",
   "metadata": {},
   "source": [
    "# Bending energy\n",
    "\n",
    "I have a hypothesis that the active nematics bend more in slower flowing channels, resulting in more free energy penalty. It would be great if I can do a simulation on a constrained system, to see how the orientation field is optimized. However, since the simulation method is not readily available, I'm going to test this hypothesis on experimental data first. The plan is:\n",
    "\n",
    "- extract orientational field $p$ from images;\n",
    "- compute bending energy based on $p$ and the boundaries;\n",
    "- plot bending energy as a function of flow rate (fraction).\n",
    "\n",
    "In this notebook, I'm going to develop the method for image analysis, based on the code I got from Claire (originally from A. N.-F.'s lab)."
   ]
  },
  {
   "cell_type": "markdown",
   "metadata": {},
   "source": [
    "## 0 Packages"
   ]
  },
  {
   "cell_type": "code",
   "execution_count": 1,
   "metadata": {},
   "outputs": [],
   "source": [
    "import os\n",
    "from skimage import io\n",
    "import matplotlib.pyplot as plt\n",
    "import matplotlib\n",
    "matplotlib.rcParams[\"font.family\"] = \"STIXGeneral\"\n",
    "matplotlib.rcParams['mathtext.fontset'] = 'stix'\n",
    "matplotlib.rcParams[\"xtick.direction\"] = \"in\"\n",
    "matplotlib.rcParams[\"ytick.direction\"] = \"in\"\n",
    "plt.rcParams['xtick.major.size'] = 2  # Length of major ticks\n",
    "plt.rcParams['ytick.major.size'] = 2  # Length of major ticks\n",
    "plt.rcParams['xtick.minor.size'] = 1  # Length of minor ticks\n",
    "plt.rcParams['ytick.minor.size'] = 1  # Length of minor ticks"
   ]
  },
  {
   "cell_type": "markdown",
   "metadata": {},
   "source": [
    "## 1 Filament orientation"
   ]
  },
  {
   "cell_type": "code",
   "execution_count": null,
   "metadata": {},
   "outputs": [],
   "source": []
  }
 ],
 "metadata": {
  "kernelspec": {
   "display_name": "Python 3",
   "language": "python",
   "name": "python3"
  },
  "language_info": {
   "codemirror_mode": {
    "name": "ipython",
    "version": 3
   },
   "file_extension": ".py",
   "mimetype": "text/x-python",
   "name": "python",
   "nbconvert_exporter": "python",
   "pygments_lexer": "ipython3",
   "version": "3.9.19"
  }
 },
 "nbformat": 4,
 "nbformat_minor": 2
}
